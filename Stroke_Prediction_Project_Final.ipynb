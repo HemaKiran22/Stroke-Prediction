{
  "cells": [
    {
      "cell_type": "code",
      "execution_count": 1,
      "metadata": {
        "id": "VV0et_srlMee"
      },
      "outputs": [],
      "source": [
        "import pandas as pd\n",
        "import numpy as np\n",
        "from sklearn.model_selection import train_test_split\n",
        "from sklearn.preprocessing import StandardScaler, OneHotEncoder\n",
        "from sklearn.impute import SimpleImputer\n",
        "from sklearn.experimental import enable_iterative_imputer\n",
        "from sklearn.impute import IterativeImputer\n",
        "from sklearn.compose import ColumnTransformer\n",
        "from sklearn.pipeline import Pipeline\n",
        "from sklearn.ensemble import RandomForestClassifier\n",
        "from sklearn.metrics import classification_report, confusion_matrix, accuracy_score\n",
        "from imblearn.over_sampling import SMOTE\n",
        "from imblearn.pipeline import Pipeline as ImbPipeline"
      ]
    },
    {
      "cell_type": "code",
      "execution_count": 2,
      "metadata": {
        "colab": {
          "base_uri": "https://localhost:8080/"
        },
        "id": "26VcsYspcrxH",
        "outputId": "c41f187c-26ed-4c91-ccc1-607c984b4830"
      },
      "outputs": [
        {
          "output_type": "stream",
          "name": "stdout",
          "text": [
            "Dataset loaded successfully.\n",
            "      id  gender   age  hypertension  heart_disease ever_married  \\\n",
            "0   9046    Male  67.0             0              1          Yes   \n",
            "1  51676  Female  61.0             0              0          Yes   \n",
            "2  31112    Male  80.0             0              1          Yes   \n",
            "3  60182  Female  49.0             0              0          Yes   \n",
            "4   1665  Female  79.0             1              0          Yes   \n",
            "\n",
            "       work_type Residence_type  avg_glucose_level   bmi   smoking_status  \\\n",
            "0        Private          Urban             228.69  36.6  formerly smoked   \n",
            "1  Self-employed          Rural             202.21   NaN     never smoked   \n",
            "2        Private          Rural             105.92  32.5     never smoked   \n",
            "3        Private          Urban             171.23  34.4           smokes   \n",
            "4  Self-employed          Rural             174.12  24.0     never smoked   \n",
            "\n",
            "   stroke  \n",
            "0       1  \n",
            "1       1  \n",
            "2       1  \n",
            "3       1  \n",
            "4       1  \n"
          ]
        }
      ],
      "source": [
        "# --- 1. Load the Dataset ---\n",
        "try:\n",
        "    df = pd.read_csv('/content/healthcare-dataset-stroke-data.csv')\n",
        "    print(\"Dataset loaded successfully.\")\n",
        "except FileNotFoundError:\n",
        "    print(\"Error: 'healthcare-dataset-stroke-data.csv' not found. Please ensure the file is in the correct directory.\")\n",
        "    exit()\n",
        "\n",
        "\n",
        "print(df.head())"
      ]
    },
    {
      "cell_type": "code",
      "execution_count": 3,
      "metadata": {
        "colab": {
          "base_uri": "https://localhost:8080/"
        },
        "id": "hbcF-y7jdYrY",
        "outputId": "ec32c77f-6871-47ba-9cb2-4dba61411944"
      },
      "outputs": [
        {
          "output_type": "stream",
          "name": "stdout",
          "text": [
            "Initial data cleaning complete.\n"
          ]
        }
      ],
      "source": [
        "# --- 2. Initial Data Cleaning ---\n",
        "df = df.drop('id', axis=1)\n",
        "df = df[df['gender']!= 'Other']\n",
        "print(\"Initial data cleaning complete.\")"
      ]
    },
    {
      "cell_type": "code",
      "execution_count": 4,
      "metadata": {
        "id": "Wh4AXLfOeFuK"
      },
      "outputs": [],
      "source": [
        "# --- 3. Define Features and Target ---\n",
        "X = df.drop('stroke', axis=1)\n",
        "y = df['stroke']\n",
        "numerical_features = X.select_dtypes(include=np.number).columns.tolist()\n",
        "categorical_features = X.select_dtypes(exclude=np.number).columns.tolist()"
      ]
    },
    {
      "cell_type": "code",
      "execution_count": 5,
      "metadata": {
        "colab": {
          "base_uri": "https://localhost:8080/"
        },
        "id": "9aei0-k1eJtL",
        "outputId": "38a8850c-9f47-44ee-b1ed-284f14c53892"
      },
      "outputs": [
        {
          "output_type": "stream",
          "name": "stdout",
          "text": [
            "Preprocessing pipelines created.\n"
          ]
        }
      ],
      "source": [
        "# --- 4. Create Preprocessing Pipelines ---\n",
        "numerical_transformer = Pipeline(steps=[\n",
        "    ('imputer', IterativeImputer(random_state=42)),\n",
        "    ('scaler', StandardScaler())\n",
        "])\n",
        "categorical_transformer = Pipeline(steps=[\n",
        "    ('imputer', SimpleImputer(strategy='most_frequent')),\n",
        "    ('onehot', OneHotEncoder(handle_unknown='ignore'))\n",
        "])\n",
        "preprocessor = ColumnTransformer(\n",
        "    transformers=[\n",
        "        ('num', numerical_transformer, numerical_features),\n",
        "        ('cat', categorical_transformer, categorical_features)\n",
        "    ])\n",
        "print(\"Preprocessing pipelines created.\")"
      ]
    },
    {
      "cell_type": "code",
      "execution_count": 6,
      "metadata": {
        "colab": {
          "base_uri": "https://localhost:8080/"
        },
        "id": "IC-MGY6Xgdrl",
        "outputId": "13bd4d99-b74a-4d0a-8b95-ce6cd66c8e79"
      },
      "outputs": [
        {
          "output_type": "stream",
          "name": "stdout",
          "text": [
            "Data split into training ((4087, 10) rows) and testing ((1022, 10) rows) sets.\n"
          ]
        }
      ],
      "source": [
        "# --- 5. Split Data into Training and Testing Sets ---\n",
        "X_train, X_test, y_train, y_test = train_test_split(X, y, test_size=0.2, random_state=42, stratify=y)\n",
        "print(f\"Data split into training ({X_train.shape} rows) and testing ({X_test.shape} rows) sets.\")"
      ]
    },
    {
      "cell_type": "code",
      "execution_count": 7,
      "metadata": {
        "colab": {
          "base_uri": "https://localhost:8080/"
        },
        "id": "bdIeUQdKhgY3",
        "outputId": "3bba9672-55df-460f-a938-8ec520f59285"
      },
      "outputs": [
        {
          "output_type": "stream",
          "name": "stdout",
          "text": [
            "Model pipeline with SMOTE defined.\n"
          ]
        }
      ],
      "source": [
        "# --- 6. Define the Model and Final Pipeline with SMOTE ---\n",
        "model_pipeline = ImbPipeline(steps=[\n",
        "    ('preprocessor', preprocessor),\n",
        "    ('smote', SMOTE(random_state=42)),\n",
        "    ('classifier', RandomForestClassifier(random_state=42))\n",
        "])\n",
        "print(\"Model pipeline with SMOTE defined.\")"
      ]
    },
    {
      "cell_type": "code",
      "execution_count": 8,
      "metadata": {
        "colab": {
          "base_uri": "https://localhost:8080/"
        },
        "id": "dXrB0uvahw3D",
        "outputId": "ac53a4a1-a9d5-4101-dee2-be320c5d783b"
      },
      "outputs": [
        {
          "output_type": "stream",
          "name": "stdout",
          "text": [
            "Training the Random Forest model...\n",
            "Model training complete.\n"
          ]
        }
      ],
      "source": [
        "# --- 7. Train the Model ---\n",
        "print(\"Training the Random Forest model...\")\n",
        "model_pipeline.fit(X_train, y_train)\n",
        "print(\"Model training complete.\")"
      ]
    },
    {
      "cell_type": "code",
      "execution_count": 9,
      "metadata": {
        "colab": {
          "base_uri": "https://localhost:8080/"
        },
        "id": "9ZapHIx4iLyE",
        "outputId": "eeaa6beb-bce9-47d7-fdbd-c670031f0874"
      },
      "outputs": [
        {
          "output_type": "stream",
          "name": "stdout",
          "text": [
            "\n",
            "--- Model Evaluation ---\n"
          ]
        }
      ],
      "source": [
        "# --- 8. Evaluate the Model ---\n",
        "print(\"\\n--- Model Evaluation ---\")\n",
        "y_pred = model_pipeline.predict(X_test)"
      ]
    },
    {
      "cell_type": "code",
      "execution_count": 10,
      "metadata": {
        "colab": {
          "base_uri": "https://localhost:8080/"
        },
        "id": "P08uHrE6iQAW",
        "outputId": "5b3de4e9-0e16-4cbd-8654-a707f122585e"
      },
      "outputs": [
        {
          "output_type": "stream",
          "name": "stdout",
          "text": [
            "Accuracy: 93.44%\n",
            "\n",
            "Confusion Matrix:\n",
            "[[950  22]\n",
            " [ 45   5]]\n",
            "\n",
            "Classification Report:\n",
            "              precision    recall  f1-score   support\n",
            "\n",
            "   no stroke       0.95      0.98      0.97       972\n",
            "      stroke       0.19      0.10      0.13        50\n",
            "\n",
            "    accuracy                           0.93      1022\n",
            "   macro avg       0.57      0.54      0.55      1022\n",
            "weighted avg       0.92      0.93      0.93      1022\n",
            "\n"
          ]
        }
      ],
      "source": [
        "print(f\"Accuracy: {accuracy_score(y_test, y_pred)*100:.2f}%\\n\")\n",
        "print(\"Confusion Matrix:\")\n",
        "print(confusion_matrix(y_test, y_pred))\n",
        "print(\"\\nClassification Report:\")\n",
        "print(classification_report(y_test, y_pred, target_names=['no stroke', 'stroke']))"
      ]
    },
    {
      "cell_type": "code",
      "execution_count": 11,
      "metadata": {
        "colab": {
          "base_uri": "https://localhost:8080/"
        },
        "id": "I3CA-vwHiadw",
        "outputId": "f5ee9f8d-2f40-46b1-e30e-1eba72386a97"
      },
      "outputs": [
        {
          "output_type": "stream",
          "name": "stdout",
          "text": [
            "Actual vs Predicted values for random samples from the original dataset:\n",
            "Sample 1: Actual = 0, Predicted = 0\n",
            "Sample 2: Actual = 0, Predicted = 0\n",
            "Sample 3: Actual = 0, Predicted = 0\n",
            "Sample 4: Actual = 0, Predicted = 0\n",
            "Sample 5: Actual = 0, Predicted = 0\n",
            "Sample 6: Actual = 1, Predicted = 0\n",
            "Sample 7: Actual = 1, Predicted = 1\n",
            "Sample 8: Actual = 1, Predicted = 1\n",
            "Sample 9: Actual = 1, Predicted = 1\n",
            "Sample 10: Actual = 1, Predicted = 1\n"
          ]
        }
      ],
      "source": [
        "df_stroke_0 = df[df['stroke'] == 0]\n",
        "df_stroke_1 = df[df['stroke'] == 1]\n",
        "n_samples_0 = min(5, len(df_stroke_0))\n",
        "n_samples_1 = min(5, len(df_stroke_1))\n",
        "random_samples_0 = df_stroke_0.sample(n=n_samples_0, random_state=42)\n",
        "random_samples_1 = df_stroke_1.sample(n=n_samples_1, random_state=42)\n",
        "random_samples = pd.concat([random_samples_0, random_samples_1])\n",
        "X_random = random_samples.drop('stroke', axis=1)\n",
        "y_random = random_samples['stroke']\n",
        "predictions_random = model_pipeline.predict(X_random)\n",
        "print(\"Actual vs Predicted values for random samples from the original dataset:\")\n",
        "for i in range(len(random_samples)):\n",
        "    print(f\"Sample {i+1}: Actual = {y_random.iloc[i]}, Predicted = {predictions_random[i]}\")"
      ]
    },
    {
      "cell_type": "code",
      "execution_count": 13,
      "metadata": {
        "colab": {
          "base_uri": "https://localhost:8080/"
        },
        "id": "4oU4Q8kqivvQ",
        "outputId": "4e626e5a-ae86-4dd4-ff0d-0417f8eade12"
      },
      "outputs": [
        {
          "output_type": "stream",
          "name": "stdout",
          "text": [
            "Please provide the following information for the prediction:\n",
            "Enter value for gender (Male, Female, Other - Note: \"Other\" was removed during cleaning, so use Male or Female): Male\n",
            "Enter value for age (e.g., 65.0): 67\n",
            "Enter value for hypertension (0 for no, 1 for yes): 0\n",
            "Enter value for heart_disease (0 for no, 1 for yes): 1\n",
            "Enter value for ever_married (Yes or No): Yes\n",
            "Enter value for work_type (Govt_job, Never_worked, Private, Self-employed, children): Private\n",
            "Enter value for Residence_type (Rural or Urban): Urban\n",
            "Enter value for avg_glucose_level (e.g., 200.0): 228.69\n",
            "Enter value for bmi (e.g., 35.0): 36.6\n",
            "Enter value for smoking_status (formerly smoked, never smoked, smokes, Unknown): formerly smoked\n",
            "\n",
            "Prediction for the provided input data:\n",
            "Predicted: Stroke\n",
            "\n",
            "Prediction probabilities (No Stroke, Stroke):\n",
            "[[0.02 0.98]]\n"
          ]
        }
      ],
      "source": [
        "# --- Get Input from User and Predict ---\n",
        "user_input = {}\n",
        "print(\"Please provide the following information for the prediction:\")\n",
        "features_info = {\n",
        "    'gender': ' (Male, Female, Other - Note: \"Other\" was removed during cleaning, so use Male or Female)',\n",
        "    'age': ' (e.g., 65.0)',\n",
        "    'hypertension': ' (0 for no, 1 for yes)',\n",
        "    'heart_disease': ' (0 for no, 1 for yes)',\n",
        "    'ever_married': ' (Yes or No)',\n",
        "    'work_type': ' (Govt_job, Never_worked, Private, Self-employed, children)',\n",
        "    'Residence_type': ' (Rural or Urban)',\n",
        "    'avg_glucose_level': ' (e.g., 200.0)',\n",
        "    'bmi': ' (e.g., 35.0)',\n",
        "    'smoking_status': ' (formerly smoked, never smoked, smokes, Unknown)'\n",
        "}\n",
        "for feature, info in features_info.items():\n",
        "    while True:\n",
        "        input_value = input(f\"Enter value for {feature}{info}: \")\n",
        "        if feature in ['age', 'avg_glucose_level', 'bmi']:\n",
        "            try:\n",
        "                user_input[feature] = float(input_value)\n",
        "                break\n",
        "            except ValueError:\n",
        "                print(\"Invalid input. Please enter a numerical value.\")\n",
        "        elif feature in ['hypertension', 'heart_disease']:\n",
        "            if input_value in ['0', '1']:\n",
        "                user_input[feature] = int(input_value)\n",
        "                break\n",
        "            else:\n",
        "                print(\"Invalid input. Please enter 0 or 1.\")\n",
        "        else:\n",
        "            user_input[feature] = input_value\n",
        "            break\n",
        "new_input_data_user = pd.DataFrame([user_input])\n",
        "user_prediction = model_pipeline.predict(new_input_data_user)\n",
        "user_prediction_proba = model_pipeline.predict_proba(new_input_data_user)\n",
        "print(\"\\nPrediction for the provided input data:\")\n",
        "if user_prediction[0] == 1:\n",
        "    print(\"Predicted: Stroke\")\n",
        "else:\n",
        "    print(\"Predicted: No Stroke\")\n",
        "\n",
        "print(\"\\nPrediction probabilities (No Stroke, Stroke):\")\n",
        "print(user_prediction_proba)"
      ]
    },
    {
      "cell_type": "code",
      "execution_count": null,
      "metadata": {
        "id": "hoUQfsSSja2K"
      },
      "outputs": [],
      "source": []
    }
  ],
  "metadata": {
    "colab": {
      "provenance": []
    },
    "kernelspec": {
      "display_name": "Python 3",
      "name": "python3"
    }
  },
  "nbformat": 4,
  "nbformat_minor": 0
}